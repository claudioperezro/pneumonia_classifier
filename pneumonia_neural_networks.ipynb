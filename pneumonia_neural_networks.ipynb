{
 "cells": [
  {
   "cell_type": "markdown",
   "metadata": {},
   "source": [
    "# Using Convolutional Neural Networks to classify X-ray pictures of patients"
   ]
  },
  {
   "cell_type": "markdown",
   "metadata": {},
   "source": [
    "### Introduction\n",
    "\n",
    "When we take a step back and appreciate what we've managed to do with Machine Learning, Image Classification has to be  one of the most impressive problems we've tackled. \n",
    "\n",
    "A very simple task to the brain notwithstanding, it is nearly impossible to hard code into a machine *how* to identify patterns and decide what the object we're looking at is. \n",
    "\n",
    "This project is an exploratory introduction to the world of Image Classification with Deep Learning.\n",
    "\n",
    "### Machines doing human tasks?\n",
    "\n",
    "I've read a couple of times from authors like Yuval Noah Harari and Malcom Gladwell that many professions are on the brink of disappearing thanks to the exponential advances in AI.  Experiments with court judges  are one of the most interesting cases of a trained model doing a better job than their human counterpart. Whereas a trained model ignores many of the biases that humans have when judging a human’s intentions and true character, a judge can’t avoid mixing the attitude of the defendant as he enters the court, his eye contact, whether he cries etc. A model ignores all of this and just looks at the information of the defendant and compares it with past cases with similar features. In experiments such as this one models do significantly better at their task: identifying those defendants that will commit a crime again and therefore should not be out in the streets.\n",
    "\n",
    "Imagine how many careers depend on this kind of judgment that is seen by society, as reserved only to experts. Doctors are on this spectrum, where a good doctor can sit with you, ask you a couple of questions, inspect you and then diagnose you with a fairly confidence. We think of this judgment as something that could only come from them, but in reality, many tasks done by doctors are being done by AI as of today. \n"
   ]
  },
  {
   "cell_type": "markdown",
   "metadata": {},
   "source": [
    "### The task"
   ]
  },
  {
   "cell_type": "markdown",
   "metadata": {},
   "source": [
    "This project consists in building an AI model that will look at X-ray images of patients normal patients and patients sick of pneumonia. The model will then try to learn to classify x-rays images into sick or normal. This is a very straightforward image classification tasks, but the implications of projects like these are obvious. \n",
    "\n",
    "If models like this are so easy to build nowadays, what does the future of medicine look like?"
   ]
  },
  {
   "cell_type": "markdown",
   "metadata": {},
   "source": [
    "### The Data\n",
    "\n",
    "The data comes from an article title Identifying Medical Diagnoses and Treatable Diseases by Image-Based Deep Learning by Daniel S. Kermany et. al where the authors \"collected and labeled a total of 5,232 chest X-ray images from children, including 3,883 characterized as depicting pneumonia (2,538 bacterial and 1,345 viral) and 1,349 normal, from a total of 5,856 patients to train the AI system. The model was then tested with 234 normal images and 390 pneumonia images (242 bacterial and 148 viral) from 624 patients.\"\n",
    "\n",
    "Let's set a goal fo this project first and then work with this images. "
   ]
  },
  {
   "cell_type": "markdown",
   "metadata": {},
   "source": [
    "## Project Map\n",
    "\n",
    "The goal for this project is to explore different approaches to a problem like this one. Because Deep Learning training and testing is an iterative process full of trial and error, we’re less concerned about the accuracy of our model than by the work flow when working with Neural Networks. \n",
    "\n",
    "This is the basic map for this project:\n",
    "1. **Build Basic Model**<p>\n",
    "First we'll try to build a model using standard parameters used for similar classification tasks, without thinking too much on them.<p>\n",
    "    \n",
    "2. **Look at other models (Kaggle) Tune Kernel Manually**<p>\n",
    "We'll build a \"frankenstein\" model, combining parameters and layers used by the most succesful classifiers I could find in the Web (this classification task is part of a Kaggle.com competition, so many people are trying to solve the problem, all of whose code you can find online).<p>\n",
    "\n",
    "3. **Tune Parameters**<p>\n",
    "Next, we'll use an automatic tuner which tries different combinations of model parameters and saves the model that does the best on some validation set. \n",
    "    \n",
    "    \n",
    "4. **Try Transfer Learning**<p>\n",
    "Finally, we'll try a very powerful learning method called transfer learning to see if we can improve our results significantly. \n",
    "    \n",
    "    \n",
    "Without further ado, let's get started:"
   ]
  },
  {
   "cell_type": "markdown",
   "metadata": {},
   "source": [
    "## Importing Libraries"
   ]
  },
  {
   "cell_type": "code",
   "execution_count": 2,
   "metadata": {},
   "outputs": [
    {
     "name": "stdout",
     "output_type": "stream",
     "text": [
      "['.DS_Store', 'untitled_project', 'pneumonia_neural_networks.ipynb', '.ipynb_checkpoints', '.git', 'Data', 'Image Recognition Practice.ipynb']\n"
     ]
    }
   ],
   "source": [
    "import numpy as np\n",
    "import matplotlib.pyplot as plt\n",
    "import os\n",
    "from PIL import Image"
   ]
  },
  {
   "cell_type": "code",
   "execution_count": 3,
   "metadata": {},
   "outputs": [],
   "source": [
    "from PIL import Image"
   ]
  },
  {
   "cell_type": "code",
   "execution_count": 5,
   "metadata": {},
   "outputs": [],
   "source": [
    "import keras\n",
    "from keras.models import Sequential \n",
    "from keras.layers import Conv2D\n",
    "from keras.layers import MaxPooling2D\n",
    "from keras.layers import Flatten\n",
    "from keras.layers import Dense\n",
    "from keras.preprocessing.image import ImageDataGenerator, load_img\n",
    "from sklearn.metrics import classification_report, confusion_matrix\n",
    "\n",
    "import seaborn as sns\n",
    "import tensorflow_hub as hub\n",
    "from tensorflow.keras.models import Sequential"
   ]
  },
  {
   "cell_type": "markdown",
   "metadata": {},
   "source": [
    "### Setting up directories"
   ]
  },
  {
   "cell_type": "code",
   "execution_count": 7,
   "metadata": {},
   "outputs": [
    {
     "name": "stdout",
     "output_type": "stream",
     "text": [
      "['.DS_Store', 'PNEUMONIA', 'NORMAL']\n"
     ]
    }
   ],
   "source": [
    "data = \"Data/\"\n",
    "print(os.listdir(\"./Data/chest_xray/train/\"))\n",
    "\n",
    "train_dir = \"./Data/chest_xray/train/\"\n",
    "val_dir = \"./Data/chest_xray/val/\"\n",
    "test_dir = \"./Data/chest_xray/test/\""
   ]
  },
  {
   "cell_type": "code",
   "execution_count": 8,
   "metadata": {},
   "outputs": [],
   "source": [
    "train_normal = train_dir + \"NORMAl/\"\n",
    "train_sick = train_dir + \"PNEUMONIA/\""
   ]
  },
  {
   "cell_type": "markdown",
   "metadata": {},
   "source": [
    "Let's take a look at how are data is saved in folder containing the images:"
   ]
  },
  {
   "cell_type": "code",
   "execution_count": 11,
   "metadata": {},
   "outputs": [
    {
     "name": "stdout",
     "output_type": "stream",
     "text": [
      "1341\n",
      "3875\n"
     ]
    }
   ],
   "source": [
    "print(len(os.listdir(train_normal)))\n",
    "print(len(os.listdir(train_sick)))"
   ]
  },
  {
   "cell_type": "code",
   "execution_count": 12,
   "metadata": {},
   "outputs": [
    {
     "name": "stdout",
     "output_type": "stream",
     "text": [
      "234\n",
      "390\n"
     ]
    }
   ],
   "source": [
    "test_normal = test_dir + \"NORMAL/\"\n",
    "test_sick = test_dir + \"PNEUMONIA/\"\n",
    "\n",
    "print(len(os.listdir(test_normal)))\n",
    "print(len(os.listdir(test_sick)))"
   ]
  },
  {
   "cell_type": "code",
   "execution_count": 13,
   "metadata": {},
   "outputs": [
    {
     "name": "stdout",
     "output_type": "stream",
     "text": [
      "8\n",
      "8\n"
     ]
    }
   ],
   "source": [
    "val_normal = val_dir + \"NORMAL/\"\n",
    "val_sick =  val_dir + \"PNEUMONIA/\"\n",
    "print(len(os.listdir(val_normal)))\n",
    "print(len(os.listdir(val_sick))) "
   ]
  },
  {
   "cell_type": "markdown",
   "metadata": {},
   "source": [
    "We can see here that there are three folders containing images: \n",
    " - **Training**\n",
    "  - Normal (1341 Images)\n",
    "  - Sick (3875 Images)\n",
    " - **Test**\n",
    "  - Normal (234 Images)\n",
    "  - Sick (390 Images)\n",
    " - **Validation**\n",
    "  - Normal (8 Images)\n",
    "  - Sick (8 Images)\n",
    " \n",
    "So our data isn't labeled per se, but rather divided up into structured directories that tell us which image is which. "
   ]
  },
  {
   "cell_type": "markdown",
   "metadata": {},
   "source": [
    "## Open Picture "
   ]
  },
  {
   "cell_type": "markdown",
   "metadata": {},
   "source": [
    "You can see that if we fetch a single element (in this case 701) from our draining/normal directory, we get the name of the picture file. Our task now is to fetch every picture and put them into training, test and validation sets. "
   ]
  },
  {
   "cell_type": "code",
   "execution_count": 12,
   "metadata": {},
   "outputs": [
    {
     "name": "stdout",
     "output_type": "stream",
     "text": [
      "NORMAL2-IM-0523-0001.jpeg\n",
      "person1619_bacteria_4261.jpeg\n"
     ]
    }
   ],
   "source": [
    "print(os.listdir(train_normal)[701])\n",
    "print(os.listdir(train_sick)[10])"
   ]
  },
  {
   "cell_type": "markdown",
   "metadata": {},
   "source": [
    "Let's take a look at what these picture look like:"
   ]
  },
  {
   "cell_type": "code",
   "execution_count": 13,
   "metadata": {},
   "outputs": [],
   "source": [
    "load_normal = Image.open(train_normal + os.listdir(train_normal)[701])\n",
    "load_sick = Image.open(train_sick + os.listdir(train_sick)[800])"
   ]
  },
  {
   "cell_type": "code",
   "execution_count": 14,
   "metadata": {
    "scrolled": true
   },
   "outputs": [
    {
     "data": {
      "text/plain": [
       "Text(0.5, 1.0, 'Sick Patient')"
      ]
     },
     "execution_count": 14,
     "metadata": {},
     "output_type": "execute_result"
    },
    {
     "data": {
      "image/png": "[encoded data removed]",
      "text/plain": [
       "<Figure size 720x432 with 2 Axes>"
      ]
     },
     "metadata": {
      "needs_background": "light"
     },
     "output_type": "display_data"
    }
   ],
   "source": [
    "# Normal Patient\n",
    "f = plt.figure(figsize=(10,6))\n",
    "a1 = f.add_subplot(1,2,1)\n",
    "img_plot = plt.imshow(load_normal)\n",
    "a1.set_title(\"Normal Patient\")\n",
    "\n",
    "# Sick Patient\n",
    "a2 = f.add_subplot(1, 2, 2)\n",
    "img_plot = plt.imshow(load_sick)\n",
    "a2.set_title(\"Sick Patient\")\n",
    "\n"
   ]
  },
  {
   "cell_type": "markdown",
   "metadata": {},
   "source": [
    "At least for me, it is't exactly apparent where the bacterias are, and honestly when I look at these pictures it makes me doubt whether a NN could be able to distinguish such differences. "
   ]
  },
  {
   "cell_type": "markdown",
   "metadata": {},
   "source": [
    "Other things we'll note from these pictures is that they're not all the same size and they're RGB pictures."
   ]
  },
  {
   "cell_type": "markdown",
   "metadata": {},
   "source": [
    "### Directory Iterator "
   ]
  },
  {
   "cell_type": "markdown",
   "metadata": {},
   "source": [
    "Let's do some preprocessing before we start training our data. \n",
    "\n",
    "As I mentioned before, we want to import our pictures into some kind of object that contains all of our images. For this project we'll use the `ImageDataGenerator` class and its own `flow_from_directory` method to resize our images to (64,64) and label automatically label our data as binary. Note that our method can label our data correctly because it assumes it is organized into its require structured:\n",
    "   - Main Dir\n",
    "       - Training Folder\n",
    "        - Normal\n",
    "            - Picture 1\n",
    "            - Picture 2\n",
    "            - ...\n",
    "       \n",
    "        - Sick\n",
    "            -  Picture 20\n",
    "            -  Picture 21\n",
    "            - ...\n",
    "      "
   ]
  },
  {
   "cell_type": "code",
   "execution_count": 14,
   "metadata": {},
   "outputs": [
    {
     "name": "stdout",
     "output_type": "stream",
     "text": [
      "Found 5216 images belonging to 2 classes.\n",
      "Found 16 images belonging to 2 classes.\n",
      "Found 624 images belonging to 2 classes.\n"
     ]
    }
   ],
   "source": [
    "#Normalize and Prepare Pictures\n",
    "train_datagen = ImageDataGenerator(rescale=1/255, \n",
    "                                   shear_range=0.2, \n",
    "                                   zoom_range=0.2, \n",
    "                                   horizontal_flip=True)\n",
    "\n",
    "test_datagen = ImageDataGenerator(rescale=1/255) \n",
    "\n",
    "\n",
    "\n",
    "training_set = train_datagen.flow_from_directory(\"./Data/chest_xray/train/\",\n",
    "                                                 target_size=(64, 64),\n",
    "                                                 batch_size=32, \n",
    "                                                 class_mode='binary')\n",
    "\n",
    "validation_generator = test_datagen.flow_from_directory(\"./Data/chest_xray/val/\",\n",
    "                                                        target_size=(64,64),\n",
    "                                                        batch_size=32,\n",
    "                                                        class_mode='binary')\n",
    "\n",
    "test_set = test_datagen.flow_from_directory('./Data/chest_xray/test/',\n",
    "                                           target_size=(64,64),\n",
    "                                           shuffle = False,\n",
    "                                           class_mode='binary',\n",
    "                                           batch_size=1)\n",
    "                                            "
   ]
  },
  {
   "cell_type": "markdown",
   "metadata": {},
   "source": [
    "Our method correctly labeled each image into their respective classes. "
   ]
  },
  {
   "cell_type": "code",
   "execution_count": 17,
   "metadata": {},
   "outputs": [
    {
     "data": {
      "text/plain": [
       "<keras.preprocessing.image.DirectoryIterator at 0x7fc22b00ff60>"
      ]
     },
     "execution_count": 17,
     "metadata": {},
     "output_type": "execute_result"
    }
   ],
   "source": [
    "test_set"
   ]
  },
  {
   "cell_type": "markdown",
   "metadata": {},
   "source": [
    "Let's talk about a few points:\n",
    "\n",
    "1. This is a very small data set in the context of image classification. In total, we have about 5216 Images to train our data, which in general terms is not a lot. This can lead to a lot of problems but hopefully we can bypass with clever solutions.\n",
    "2. We have 1341 of normal patients and 3875 pictures of sick patients, almost 3x as many! This poses a problem on two different levels: First, our classes are inherently **imbalanced**. That is, the distribution of people sick of pneumonia in the real world is small compared to people who are not sick. So any samples taken from the population should reflect this class imbalance. In this case, our sample contains a class **unbalanced**: the sample is skewed and contains many more elements of a certain class than the other. So not only does our training set not reflect the small size of the population with pneumonia, it even has 3x as many elements with pneumonia! This can lead sometimes to models thinking that the imbalanced class is more present that it actually is."
   ]
  },
  {
   "cell_type": "markdown",
   "metadata": {},
   "source": [
    "# First Model "
   ]
  },
  {
   "cell_type": "markdown",
   "metadata": {},
   "source": [
    "Let´s start by building a very simple Neural Network:"
   ]
  },
  {
   "cell_type": "markdown",
   "metadata": {},
   "source": [
    "## Build and Train Model"
   ]
  },
  {
   "cell_type": "code",
   "execution_count": 172,
   "metadata": {
    "scrolled": true
   },
   "outputs": [
    {
     "name": "stdout",
     "output_type": "stream",
     "text": [
      "Epoch 1/5\n",
      "163/163 [==============================] - 72s 436ms/step - loss: 0.4698 - accuracy: 0.8065\n",
      "Epoch 2/5\n",
      "163/163 [==============================] - 71s 437ms/step - loss: 0.2262 - accuracy: 0.9081\n",
      "Epoch 3/5\n",
      "163/163 [==============================] - 71s 438ms/step - loss: 0.2031 - accuracy: 0.9131\n",
      "Epoch 4/5\n",
      "163/163 [==============================] - 71s 437ms/step - loss: 0.1795 - accuracy: 0.9338\n",
      "Epoch 5/5\n",
      "163/163 [==============================] - 71s 437ms/step - loss: 0.1838 - accuracy: 0.9284\n"
     ]
    },
    {
     "data": {
      "text/plain": [
       "<keras.callbacks.History at 0x7f92a2815748>"
      ]
     },
     "execution_count": 172,
     "metadata": {},
     "output_type": "execute_result"
    }
   ],
   "source": [
    "model = Sequential([\n",
    "    keras.layers.Conv2D(64, 3, activation='relu'),\n",
    "    keras.layers.MaxPool2D(2,2),\n",
    "    keras.layers.Conv2D(64, 3, activation='relu'),\n",
    "    keras.layers.MaxPool2D(2,2),\n",
    "    keras.layers.Flatten(),\n",
    "    keras.layers.Dense(128, activation='relu'),\n",
    "    keras.layers.Dense(2, activation='softmax')\n",
    "])\n",
    "model.compile(optimizer='adam',\n",
    "             loss=keras.losses.SparseCategoricalCrossentropy(),\n",
    "              metrics=['accuracy'])\n",
    "\n",
    "model.fit(training_set, epochs=5, batch_size=32)"
   ]
  },
  {
   "cell_type": "markdown",
   "metadata": {},
   "source": [
    "The model reached an accuracy of 93% during training! Not bad at all for our first try. But is it really good at classifying our images or is it overfitting? Let's take a look at our model components first:"
   ]
  },
  {
   "cell_type": "markdown",
   "metadata": {},
   "source": [
    "## Review Model"
   ]
  },
  {
   "cell_type": "code",
   "execution_count": 180,
   "metadata": {},
   "outputs": [
    {
     "name": "stdout",
     "output_type": "stream",
     "text": [
      "Model: \"sequential_27\"\n",
      "_________________________________________________________________\n",
      "Layer (type)                 Output Shape              Param #   \n",
      "=================================================================\n",
      "conv2d_52 (Conv2D)           (None, None, None, 64)    1792      \n",
      "_________________________________________________________________\n",
      "max_pooling2d_39 (MaxPooling (None, None, None, 64)    0         \n",
      "_________________________________________________________________\n",
      "conv2d_53 (Conv2D)           (None, None, None, 64)    36928     \n",
      "_________________________________________________________________\n",
      "max_pooling2d_40 (MaxPooling (None, None, None, 64)    0         \n",
      "_________________________________________________________________\n",
      "flatten_27 (Flatten)         (None, None)              0         \n",
      "_________________________________________________________________\n",
      "dense_54 (Dense)             (None, 128)               1605760   \n",
      "_________________________________________________________________\n",
      "dense_55 (Dense)             (None, 2)                 258       \n",
      "=================================================================\n",
      "Total params: 1,644,738\n",
      "Trainable params: 1,644,738\n",
      "Non-trainable params: 0\n",
      "_________________________________________________________________\n"
     ]
    }
   ],
   "source": [
    "model.summary()"
   ]
  },
  {
   "cell_type": "markdown",
   "metadata": {},
   "source": [
    "## The components:\n",
    "Our first model will contain the most common basic blocks for convolutional networks:\n",
    "\n",
    "**Convolutional Layers**<br>\n",
    "    For this model we'll use two convolutional layers with 64 filters each. The number of filters I chose came directly from another project I did in the past (Image classification) so I think its a great starting point.  <p>\n",
    "**Pooling Layers**<br>\n",
    "    We'll use a couple of pooling layers. One of the many tasks pooling layers have is reducing the size of our filters. Pooling layers as a result reduce computational complexity and time. <p>\n",
    "**Flatten Layer**<br>\n",
    "    Because we've been dealing with 2-dimensional data up to here, we'll flatten our layers so that we can feed our data into a final dense layer. <p>\n",
    "**Dense Layers**<br>\n",
    "    Dense layers at the end will do the classifying for us. Hopefully, our kernel has identified some features of the picture and our layer will be able to classify images based on these learned features.<p>"
   ]
  },
  {
   "cell_type": "markdown",
   "metadata": {},
   "source": [
    "## Evaluate Model"
   ]
  },
  {
   "cell_type": "code",
   "execution_count": 173,
   "metadata": {
    "scrolled": true
   },
   "outputs": [
    {
     "name": "stdout",
     "output_type": "stream",
     "text": [
      "624/624 [==============================] - 7s 10ms/step - loss: 0.4221 - accuracy: 0.8301\n"
     ]
    },
    {
     "data": {
      "text/plain": [
       "[0.4221333861351013, 0.8301281929016113]"
      ]
     },
     "execution_count": 173,
     "metadata": {},
     "output_type": "execute_result"
    }
   ],
   "source": [
    "model.evaluate(test_set)"
   ]
  },
  {
   "cell_type": "markdown",
   "metadata": {},
   "source": [
    "Our model didn´t as good as with our training data (83%) as expected, but its still really good for our first try! Let's take a look at other metrics:"
   ]
  },
  {
   "cell_type": "markdown",
   "metadata": {},
   "source": [
    "## Confusion Matrix and Classification Report"
   ]
  },
  {
   "cell_type": "markdown",
   "metadata": {},
   "source": [
    "In order to predict the classes for our test set, we'll use Numpy's argmax because our output contains two neurons whose output (a number) is  proportional to which class the model thinks the image belongs. In other words, our output contains a matrix of shape (624,2) where each row corresponds to test samples and each column represents the sick or normal class."
   ]
  },
  {
   "cell_type": "code",
   "execution_count": 177,
   "metadata": {},
   "outputs": [],
   "source": [
    "predictions = np.argmax(model.predict(test_set), axis=1)"
   ]
  },
  {
   "cell_type": "code",
   "execution_count": 179,
   "metadata": {},
   "outputs": [
    {
     "data": {
      "image/png": "[encoded data removed]",
      "text/plain": [
       "<Figure size 360x360 with 1 Axes>"
      ]
     },
     "metadata": {
      "needs_background": "light"
     },
     "output_type": "display_data"
    },
    {
     "name": "stdout",
     "output_type": "stream",
     "text": [
      "Classification Report:\n",
      "----------------------\n",
      "               precision    recall  f1-score   support\n",
      "\n",
      "      Normal       0.94      0.58      0.72       234\n",
      "        Sick       0.80      0.98      0.88       390\n",
      "\n",
      "    accuracy                           0.83       624\n",
      "   macro avg       0.87      0.78      0.80       624\n",
      "weighted avg       0.85      0.83      0.82       624\n",
      "\n"
     ]
    }
   ],
   "source": [
    "cm = confusion_matrix(test_set.labels, predictions, labels=[0, 1])\n",
    "clr = classification_report(test_set.labels, predictions, labels=[0, 1], target_names=[\"Normal\", \"Sick\"])\n",
    "\n",
    "plt.figure(figsize=(5, 5))\n",
    "ax = sns.heatmap(cm, annot=True, fmt='g', vmin=0, cmap='Blues', cbar=False)\n",
    "ax.set_ylim(0, 3)\n",
    "plt.xticks(ticks=[0.5, 1.5], labels=[\"Normal\", \"Sick\"])\n",
    "plt.yticks(ticks=[0.5, 1.5], labels=[\"Normal\", \"Sick\"])\n",
    "plt.xlabel(\"Predicted\")\n",
    "plt.ylabel(\"Actual\")\n",
    "plt.title(\"Confusion Matrix\")\n",
    "plt.show()\n",
    "\n",
    "print(\"Classification Report:\\n----------------------\\n\", clr)"
   ]
  },
  {
   "cell_type": "markdown",
   "metadata": {},
   "source": [
    "Note that the Confusion matrix is flipped in the x-axis, so the common diagonal that we seek goes from the bottom left square to the top right square."
   ]
  },
  {
   "cell_type": "markdown",
   "metadata": {},
   "source": [
    "This model did really well! It is the sick - recall is really goodm which means we have very few false negatives. In the context of medical diagnose and ilnesses, recall is very important since we don't want to have sick people being told they're healthy. This on the other hand, generally leads to a very poor recall score. You can see that a lot of healthy patients were told they were sick, when in reality they weren't. "
   ]
  },
  {
   "cell_type": "markdown",
   "metadata": {},
   "source": [
    "## Conclussions "
   ]
  },
  {
   "cell_type": "markdown",
   "metadata": {},
   "source": [
    "By building a CNN model using very basic building blocks we were able to get pretty good results. We didn't even have to adress overfitting using regularization methods such as dropout layers etc. \n",
    "\n",
    "let's see how we can improve our model:"
   ]
  },
  {
   "cell_type": "markdown",
   "metadata": {},
   "source": [
    "# Frankenstein Model"
   ]
  },
  {
   "cell_type": "markdown",
   "metadata": {},
   "source": [
    "This next model will combine the best parameters and layers from other people that have tried this problem. I wanted to include this model in the project because as a beginner in the field of deep learning, looking at what other people have done for similar projects lets me focus on the finer details of the model.\n",
    "\n",
    "Let's build our model:"
   ]
  },
  {
   "cell_type": "code",
   "execution_count": 183,
   "metadata": {},
   "outputs": [],
   "source": [
    "cnn = Sequential()\n",
    "\n",
    "cnn.add(Conv2D(32, (3, 3), activation='relu', input_shape=(64, 64, 3)))\n",
    "cnn.add(MaxPooling2D(pool_size=(2,2)))\n",
    "cnn.add(Conv2D(32, (3,3), activation='relu'))\n",
    "cnn.add(MaxPooling2D(pool_size=(2,2)))\n",
    "cnn.add(Flatten())\n",
    "cnn.add(Dense(activation='relu', units=128))\n",
    "cnn.add(Dense(activation='softmax', units=2))\n",
    "\n",
    "\n",
    "cnn.compile(optimizer='adam', loss=keras.losses.SparseCategoricalCrossentropy(), metrics=['accuracy'])"
   ]
  },
  {
   "cell_type": "markdown",
   "metadata": {},
   "source": [
    "This model is similar to our last model. An important parameter that wasn't mentioned before is our loss function, which in this case is `SparseCategoricalCrossentropy` we could have used other loss functions focused on binary classifiers but at the end of the day, SparseCategoricalCrossentropy (which can also be used for binary classifiers) produced the best results."
   ]
  },
  {
   "cell_type": "markdown",
   "metadata": {},
   "source": [
    "## Review Model"
   ]
  },
  {
   "cell_type": "code",
   "execution_count": 186,
   "metadata": {},
   "outputs": [
    {
     "name": "stdout",
     "output_type": "stream",
     "text": [
      "Model: \"sequential_28\"\n",
      "_________________________________________________________________\n",
      "Layer (type)                 Output Shape              Param #   \n",
      "=================================================================\n",
      "conv2d_54 (Conv2D)           (None, 62, 62, 32)        896       \n",
      "_________________________________________________________________\n",
      "max_pooling2d_41 (MaxPooling (None, 31, 31, 32)        0         \n",
      "_________________________________________________________________\n",
      "conv2d_55 (Conv2D)           (None, 29, 29, 32)        9248      \n",
      "_________________________________________________________________\n",
      "max_pooling2d_42 (MaxPooling (None, 14, 14, 32)        0         \n",
      "_________________________________________________________________\n",
      "flatten_28 (Flatten)         (None, 6272)              0         \n",
      "_________________________________________________________________\n",
      "dense_56 (Dense)             (None, 128)               802944    \n",
      "_________________________________________________________________\n",
      "dense_57 (Dense)             (None, 2)                 258       \n",
      "=================================================================\n",
      "Total params: 813,346\n",
      "Trainable params: 813,346\n",
      "Non-trainable params: 0\n",
      "_________________________________________________________________\n"
     ]
    }
   ],
   "source": [
    "cnn.summary()"
   ]
  },
  {
   "cell_type": "markdown",
   "metadata": {},
   "source": [
    "Again, we can see our network components with the `summary` method. Our changes to this model where the parameters found from other people's models. "
   ]
  },
  {
   "cell_type": "markdown",
   "metadata": {},
   "source": [
    "# Train Model "
   ]
  },
  {
   "cell_type": "code",
   "execution_count": 187,
   "metadata": {
    "scrolled": true
   },
   "outputs": [
    {
     "name": "stdout",
     "output_type": "stream",
     "text": [
      "Epoch 1/5\n",
      "79/79 [==============================] - 34s 423ms/step - loss: 0.5963 - accuracy: 0.7018 - val_loss: 0.4853 - val_accuracy: 0.8125\n",
      "Epoch 2/5\n",
      "79/79 [==============================] - 33s 414ms/step - loss: 0.3042 - accuracy: 0.8676 - val_loss: 0.3664 - val_accuracy: 0.8750\n",
      "Epoch 3/5\n",
      "79/79 [==============================] - 33s 418ms/step - loss: 0.2136 - accuracy: 0.9196 - val_loss: 0.5323 - val_accuracy: 0.8125\n",
      "Epoch 4/5\n",
      "79/79 [==============================] - 31s 395ms/step - loss: 0.2063 - accuracy: 0.9123 - val_loss: 0.3817 - val_accuracy: 0.7500\n",
      "Epoch 5/5\n",
      "79/79 [==============================] - 32s 399ms/step - loss: 0.1960 - accuracy: 0.9270 - val_loss: 0.3825 - val_accuracy: 0.8125\n"
     ]
    }
   ],
   "source": [
    "cnn_model = cnn.fit(training_set, \n",
    "                             steps_per_epoch=79,\n",
    "                             epochs=5,\n",
    "                             validation_data=validation_generator)"
   ]
  },
  {
   "cell_type": "markdown",
   "metadata": {},
   "source": [
    "# Evaluate Model"
   ]
  },
  {
   "cell_type": "code",
   "execution_count": 188,
   "metadata": {},
   "outputs": [
    {
     "name": "stdout",
     "output_type": "stream",
     "text": [
      "624/624 [==============================] - 6s 10ms/step - loss: 0.3358 - accuracy: 0.8494\n"
     ]
    }
   ],
   "source": [
    "test_accu = cnn.evaluate(test_set)"
   ]
  },
  {
   "cell_type": "markdown",
   "metadata": {},
   "source": [
    "We had a slight improvement in our test data (1%) which sheds light on how hard it can be sometimes to get significant improvements by tuning parameters in our model.\n",
    "\n",
    "Let's try find other metrics again by predicting our test set. "
   ]
  },
  {
   "cell_type": "code",
   "execution_count": 189,
   "metadata": {},
   "outputs": [],
   "source": [
    "predictions = np.argmax(cnn.predict(test_set), axis=1)"
   ]
  },
  {
   "cell_type": "markdown",
   "metadata": {},
   "source": [
    "These are the correct classifications for the test set. You can see they're in order by class (0's represent normal people, 1's represent sick patients)"
   ]
  },
  {
   "cell_type": "code",
   "execution_count": 18,
   "metadata": {
    "scrolled": false
   },
   "outputs": [
    {
     "data": {
      "text/plain": [
       "array([0, 0, 0, 0, 0, 0, 0, 0, 0, 0, 0, 0, 0, 0, 0, 0, 0, 0, 0, 0, 0, 0,\n",
       "       0, 0, 0, 0, 0, 0, 0, 0, 0, 0, 0, 0, 0, 0, 0, 0, 0, 0, 0, 0, 0, 0,\n",
       "       0, 0, 0, 0, 0, 0, 0, 0, 0, 0, 0, 0, 0, 0, 0, 0, 0, 0, 0, 0, 0, 0,\n",
       "       0, 0, 0, 0, 0, 0, 0, 0, 0, 0, 0, 0, 0, 0, 0, 0, 0, 0, 0, 0, 0, 0,\n",
       "       0, 0, 0, 0, 0, 0, 0, 0, 0, 0, 0, 0, 0, 0, 0, 0, 0, 0, 0, 0, 0, 0,\n",
       "       0, 0, 0, 0, 0, 0, 0, 0, 0, 0, 0, 0, 0, 0, 0, 0, 0, 0, 0, 0, 0, 0,\n",
       "       0, 0, 0, 0, 0, 0, 0, 0, 0, 0, 0, 0, 0, 0, 0, 0, 0, 0, 0, 0, 0, 0,\n",
       "       0, 0, 0, 0, 0, 0, 0, 0, 0, 0, 0, 0, 0, 0, 0, 0, 0, 0, 0, 0, 0, 0,\n",
       "       0, 0, 0, 0, 0, 0, 0, 0, 0, 0, 0, 0, 0, 0, 0, 0, 0, 0, 0, 0, 0, 0,\n",
       "       0, 0, 0, 0, 0, 0, 0, 0, 0, 0, 0, 0, 0, 0, 0, 0, 0, 0, 0, 0, 0, 0,\n",
       "       0, 0, 0, 0, 0, 0, 0, 0, 0, 0, 0, 0, 0, 0, 1, 1, 1, 1, 1, 1, 1, 1,\n",
       "       1, 1, 1, 1, 1, 1, 1, 1, 1, 1, 1, 1, 1, 1, 1, 1, 1, 1, 1, 1, 1, 1,\n",
       "       1, 1, 1, 1, 1, 1, 1, 1, 1, 1, 1, 1, 1, 1, 1, 1, 1, 1, 1, 1, 1, 1,\n",
       "       1, 1, 1, 1, 1, 1, 1, 1, 1, 1, 1, 1, 1, 1, 1, 1, 1, 1, 1, 1, 1, 1,\n",
       "       1, 1, 1, 1, 1, 1, 1, 1, 1, 1, 1, 1, 1, 1, 1, 1, 1, 1, 1, 1, 1, 1,\n",
       "       1, 1, 1, 1, 1, 1, 1, 1, 1, 1, 1, 1, 1, 1, 1, 1, 1, 1, 1, 1, 1, 1,\n",
       "       1, 1, 1, 1, 1, 1, 1, 1, 1, 1, 1, 1, 1, 1, 1, 1, 1, 1, 1, 1, 1, 1,\n",
       "       1, 1, 1, 1, 1, 1, 1, 1, 1, 1, 1, 1, 1, 1, 1, 1, 1, 1, 1, 1, 1, 1,\n",
       "       1, 1, 1, 1, 1, 1, 1, 1, 1, 1, 1, 1, 1, 1, 1, 1, 1, 1, 1, 1, 1, 1,\n",
       "       1, 1, 1, 1, 1, 1, 1, 1, 1, 1, 1, 1, 1, 1, 1, 1, 1, 1, 1, 1, 1, 1,\n",
       "       1, 1, 1, 1, 1, 1, 1, 1, 1, 1, 1, 1, 1, 1, 1, 1, 1, 1, 1, 1, 1, 1,\n",
       "       1, 1, 1, 1, 1, 1, 1, 1, 1, 1, 1, 1, 1, 1, 1, 1, 1, 1, 1, 1, 1, 1,\n",
       "       1, 1, 1, 1, 1, 1, 1, 1, 1, 1, 1, 1, 1, 1, 1, 1, 1, 1, 1, 1, 1, 1,\n",
       "       1, 1, 1, 1, 1, 1, 1, 1, 1, 1, 1, 1, 1, 1, 1, 1, 1, 1, 1, 1, 1, 1,\n",
       "       1, 1, 1, 1, 1, 1, 1, 1, 1, 1, 1, 1, 1, 1, 1, 1, 1, 1, 1, 1, 1, 1,\n",
       "       1, 1, 1, 1, 1, 1, 1, 1, 1, 1, 1, 1, 1, 1, 1, 1, 1, 1, 1, 1, 1, 1,\n",
       "       1, 1, 1, 1, 1, 1, 1, 1, 1, 1, 1, 1, 1, 1, 1, 1, 1, 1, 1, 1, 1, 1,\n",
       "       1, 1, 1, 1, 1, 1, 1, 1, 1, 1, 1, 1, 1, 1, 1, 1, 1, 1, 1, 1, 1, 1,\n",
       "       1, 1, 1, 1, 1, 1, 1, 1], dtype=int32)"
      ]
     },
     "execution_count": 18,
     "metadata": {},
     "output_type": "execute_result"
    }
   ],
   "source": [
    "test_set.labels"
   ]
  },
  {
   "cell_type": "markdown",
   "metadata": {},
   "source": [
    "And this is what our model predicted (same order)"
   ]
  },
  {
   "cell_type": "code",
   "execution_count": 190,
   "metadata": {
    "scrolled": false
   },
   "outputs": [
    {
     "data": {
      "text/plain": [
       "array([0, 1, 1, 0, 0, 0, 0, 0, 1, 0, 1, 1, 0, 0, 1, 0, 1, 1, 0, 0, 1, 0,\n",
       "       0, 0, 1, 0, 1, 0, 0, 1, 0, 1, 0, 0, 1, 0, 0, 1, 0, 0, 0, 0, 0, 0,\n",
       "       0, 1, 1, 0, 0, 1, 0, 0, 1, 0, 0, 0, 1, 0, 0, 0, 0, 1, 0, 0, 0, 0,\n",
       "       1, 1, 0, 0, 0, 0, 0, 0, 0, 0, 0, 0, 0, 0, 1, 0, 0, 0, 0, 0, 0, 0,\n",
       "       1, 0, 0, 0, 0, 0, 1, 1, 0, 0, 0, 0, 0, 1, 0, 1, 1, 0, 0, 0, 0, 0,\n",
       "       0, 0, 0, 1, 0, 0, 0, 1, 1, 1, 1, 1, 1, 1, 1, 0, 1, 1, 1, 1, 1, 1,\n",
       "       1, 1, 1, 1, 1, 1, 0, 0, 1, 1, 1, 1, 1, 1, 1, 1, 0, 0, 0, 0, 0, 0,\n",
       "       0, 0, 0, 0, 0, 1, 1, 0, 0, 0, 0, 1, 1, 1, 0, 0, 0, 1, 0, 0, 1, 0,\n",
       "       0, 0, 0, 0, 1, 1, 1, 1, 0, 0, 0, 0, 0, 0, 0, 0, 0, 1, 0, 0, 0, 0,\n",
       "       1, 0, 1, 0, 0, 0, 0, 0, 0, 0, 0, 1, 1, 0, 0, 0, 0, 0, 0, 1, 0, 0,\n",
       "       0, 0, 1, 1, 0, 0, 0, 0, 0, 0, 1, 0, 0, 0, 1, 1, 1, 1, 1, 1, 1, 1,\n",
       "       1, 1, 1, 1, 1, 1, 1, 1, 1, 1, 1, 1, 1, 1, 1, 1, 1, 1, 1, 1, 1, 1,\n",
       "       1, 1, 1, 1, 1, 1, 1, 1, 1, 1, 1, 1, 1, 1, 1, 1, 1, 1, 0, 1, 1, 1,\n",
       "       1, 1, 1, 1, 1, 1, 1, 1, 1, 1, 1, 1, 1, 1, 1, 1, 1, 1, 1, 1, 1, 1,\n",
       "       1, 1, 1, 1, 1, 1, 1, 1, 1, 0, 1, 1, 1, 1, 1, 1, 1, 1, 1, 1, 1, 1,\n",
       "       1, 1, 1, 1, 0, 1, 1, 1, 1, 1, 1, 1, 1, 1, 1, 1, 1, 1, 0, 1, 1, 1,\n",
       "       1, 1, 1, 1, 1, 1, 1, 1, 1, 1, 1, 1, 1, 1, 1, 1, 1, 1, 1, 1, 1, 1,\n",
       "       1, 1, 1, 1, 1, 1, 1, 1, 1, 1, 1, 1, 1, 1, 0, 1, 0, 0, 1, 1, 1, 1,\n",
       "       1, 1, 1, 1, 1, 1, 1, 1, 1, 0, 1, 1, 1, 1, 1, 1, 1, 1, 1, 1, 1, 1,\n",
       "       1, 1, 1, 1, 1, 1, 1, 1, 1, 1, 1, 1, 1, 1, 1, 1, 1, 1, 1, 1, 1, 1,\n",
       "       1, 1, 1, 1, 1, 1, 1, 1, 1, 1, 1, 1, 1, 1, 1, 1, 1, 1, 1, 1, 1, 1,\n",
       "       1, 1, 1, 1, 1, 1, 1, 1, 1, 1, 1, 1, 1, 1, 0, 1, 1, 0, 1, 1, 1, 1,\n",
       "       1, 1, 1, 1, 1, 1, 1, 1, 1, 1, 0, 1, 0, 1, 1, 1, 1, 1, 1, 1, 1, 1,\n",
       "       1, 1, 1, 1, 1, 1, 1, 1, 1, 1, 1, 1, 1, 1, 1, 1, 1, 1, 1, 1, 1, 1,\n",
       "       1, 1, 1, 1, 1, 1, 1, 1, 1, 1, 1, 1, 1, 1, 1, 1, 1, 1, 1, 1, 1, 1,\n",
       "       1, 1, 1, 1, 1, 1, 1, 1, 1, 1, 1, 1, 1, 1, 1, 1, 1, 1, 1, 1, 1, 1,\n",
       "       1, 1, 1, 1, 1, 1, 1, 1, 1, 1, 1, 1, 1, 1, 1, 1, 1, 1, 1, 1, 1, 1,\n",
       "       1, 1, 1, 1, 1, 0, 1, 0, 0, 1, 1, 1, 1, 1, 1, 1, 1, 1, 1, 1, 1, 1,\n",
       "       1, 1, 1, 1, 1, 1, 1, 1])"
      ]
     },
     "execution_count": 190,
     "metadata": {},
     "output_type": "execute_result"
    }
   ],
   "source": [
    "predictions"
   ]
  },
  {
   "cell_type": "markdown",
   "metadata": {},
   "source": [
    "You can see how many sick patients it classified at the end (many 1's at the end, as should be) but also, right off the bat you can see its genius could possibly come from simply classifying a lot of patients as sick. "
   ]
  },
  {
   "cell_type": "markdown",
   "metadata": {},
   "source": [
    "## Confusion Matrix "
   ]
  },
  {
   "cell_type": "code",
   "execution_count": 193,
   "metadata": {},
   "outputs": [],
   "source": [
    "cm = confusion_matrix(test_set.labels, predictions, labels=[0, 1])\n",
    "clr = classification_report(test_set.labels, predictions, labels=[0, 1], target_names=[\"Normal\", \"Sick\"])"
   ]
  },
  {
   "cell_type": "code",
   "execution_count": 195,
   "metadata": {},
   "outputs": [
    {
     "data": {
      "image/png": "[encoded data removed]",
      "text/plain": [
       "<Figure size 360x360 with 1 Axes>"
      ]
     },
     "metadata": {
      "needs_background": "light"
     },
     "output_type": "display_data"
    }
   ],
   "source": [
    "plt.figure(figsize=(5, 5))\n",
    "ax = sns.heatmap(cm, annot=True, fmt='g', vmin=0, cmap='Blues', cbar=False)\n",
    "ax.set_ylim(0, 3)\n",
    "plt.xticks(ticks=[0.5, 1.5], labels=[\"Normal\", \"Sick\"])\n",
    "plt.yticks(ticks=[0.5, 1.5], labels=[\"Normal\", \"Sick\"])\n",
    "plt.xlabel(\"Predicted\")\n",
    "plt.ylabel(\"Actual\")\n",
    "plt.title(\"Confusion Matrix\")\n",
    "plt.show()\n"
   ]
  },
  {
   "cell_type": "markdown",
   "metadata": {},
   "source": [
    "## Classification Report"
   ]
  },
  {
   "cell_type": "code",
   "execution_count": 196,
   "metadata": {
    "scrolled": true
   },
   "outputs": [
    {
     "name": "stdout",
     "output_type": "stream",
     "text": [
      "Classification Report:\n",
      "----------------------\n",
      "               precision    recall  f1-score   support\n",
      "\n",
      "      Normal       0.91      0.66      0.77       234\n",
      "        Sick       0.83      0.96      0.89       390\n",
      "\n",
      "    accuracy                           0.85       624\n",
      "   macro avg       0.87      0.81      0.83       624\n",
      "weighted avg       0.86      0.85      0.84       624\n",
      "\n"
     ]
    }
   ],
   "source": [
    "print(\"Classification Report:\\n----------------------\\n\", clr)"
   ]
  },
  {
   "cell_type": "markdown",
   "metadata": {},
   "source": [
    "# Conclussions"
   ]
  },
  {
   "cell_type": "markdown",
   "metadata": {},
   "source": [
    "We improved our normal-recall score and maintained our sick-recall in reat numbers. Overall, this is a good model at the task we specifically want. "
   ]
  },
  {
   "cell_type": "markdown",
   "metadata": {},
   "source": [
    "# Automatically Tuning (some) Parameters"
   ]
  },
  {
   "cell_type": "markdown",
   "metadata": {},
   "source": [
    "But what if we knew exactly which parameters drove the best results? Can we try all of them sistematically and then just keep the best one? The answer is yes, and as you might expect, this can be a pretty simple yet **long** process because our model has to be trained, validated and then retrained. \n",
    "\n",
    "We'll use an 'Automatic tuner' for this task. To use it, we'll build our model as before but this time, we'll leave some parameters as variables. You can see in the block code below that the lines of code with the comments *parameter 1* and *parameter 2* include some code that wasn't include in past models.\n",
    "\n",
    "`\"First Conv\", [32, 64]`\n",
    "\n",
    "this line of code substitutes the number of filters argument. That is, instead of specifying how many filters we want in our convolutional layer,we give it a list of options. In this case, the tuner will try 32 and 64. "
   ]
  },
  {
   "cell_type": "code",
   "execution_count": 238,
   "metadata": {},
   "outputs": [],
   "source": [
    "def build_model(hp):\n",
    "    cnn = Sequential()\n",
    "    cnn.add(Conv2D(32, (3, 3), activation='relu', input_shape=(64, 64, 3)))\n",
    "    cnn.add(MaxPooling2D(pool_size=(2,2)))\n",
    "    cnn.add(Conv2D(hp.Choice(\"First Conv\", [32, 64]), (3,3), activation='relu'))#Parameter 1\n",
    "    cnn.add(MaxPooling2D(pool_size=(2,2)))\n",
    "    cnn.add(Flatten())\n",
    "    cnn.add(Dense(hp.Choice(\"Dense Layer\", [64, 128, 256, 512]),activation='relu')) #Parameter 2\n",
    "    cnn.add(Dense(activation='softmax', units=2))\n",
    "\n",
    "\n",
    "    cnn.compile(optimizer='adam', loss=keras.losses.SparseCategoricalCrossentropy(), metrics=['accuracy'])\n",
    "    return cnn"
   ]
  },
  {
   "cell_type": "markdown",
   "metadata": {},
   "source": [
    "We also have to select a validation set and input it as an argument for the tuner. The tuner will use this data set to select the best model. It will iterate through all our parameter options and then check how well it does at classifying our validation set. When it has tried all of the combinations it keeps the best model and allows us to use it or save it. "
   ]
  },
  {
   "cell_type": "code",
   "execution_count": 243,
   "metadata": {
    "scrolled": true
   },
   "outputs": [
    {
     "name": "stdout",
     "output_type": "stream",
     "text": [
      "Trial 7 Complete [00h 05m 59s]\n",
      "val_accuracy: 0.8958333134651184\n",
      "\n",
      "Best val_accuracy So Far: 0.9006410241127014\n",
      "Total elapsed time: 10h 17m 33s\n",
      "INFO:tensorflow:Oracle triggered exit\n"
     ]
    },
    {
     "name": "stderr",
     "output_type": "stream",
     "text": [
      "INFO:tensorflow:Oracle triggered exit\n"
     ]
    }
   ],
   "source": [
    "tuner = RandomSearch(\n",
    "    build_model,\n",
    "    objective='val_accuracy',\n",
    "    max_trials=12,\n",
    "    overwrite=True)\n",
    "\n",
    "tuner.search(training_set, validation_data=test_set, epochs=5, batch_size=32)"
   ]
  },
  {
   "cell_type": "markdown",
   "metadata": {},
   "source": [
    "Our tuner found model with parameters that resulted in 90% accuracy for our test set!\n",
    "\n",
    "But wait, aren't we using our test set as part of our training process? :("
   ]
  },
  {
   "cell_type": "markdown",
   "metadata": {},
   "source": [
    "In reality, we would use our validation set as part of our tuning process. The problem is that we only have 16 pictures in our validation set, so using it for our tuner was out of the question. \n",
    "\n",
    "Let's fetch our model from the list of best models:"
   ]
  },
  {
   "cell_type": "code",
   "execution_count": 244,
   "metadata": {},
   "outputs": [],
   "source": [
    "best_model = tuner.get_best_models()[0]"
   ]
  },
  {
   "cell_type": "markdown",
   "metadata": {},
   "source": [
    "Evaluate it on our test data:\n"
   ]
  },
  {
   "cell_type": "code",
   "execution_count": 245,
   "metadata": {},
   "outputs": [
    {
     "name": "stdout",
     "output_type": "stream",
     "text": [
      "624/624 [==============================] - 6s 10ms/step - loss: 0.2635 - accuracy: 0.9006\n"
     ]
    },
    {
     "data": {
      "text/plain": [
       "[0.26354384422302246, 0.9006410241127014]"
      ]
     },
     "execution_count": 245,
     "metadata": {},
     "output_type": "execute_result"
    }
   ],
   "source": [
    "best_model.evaluate(test_set)"
   ]
  },
  {
   "cell_type": "markdown",
   "metadata": {},
   "source": [
    "We get the expected result. This is why using our test set throughout the model learning process is never recommended:\n",
    "We end up fitting the model to the data we have, so our model might not be as good with new data."
   ]
  },
  {
   "cell_type": "markdown",
   "metadata": {},
   "source": [
    "# Transfer Learning "
   ]
  },
  {
   "cell_type": "markdown",
   "metadata": {},
   "source": [
    "## What is transfer learning?"
   ]
  },
  {
   "cell_type": "markdown",
   "metadata": {},
   "source": [
    "Transfer learning is using pretrained models for tasks that the original model wasn't trained from. Like say you'd like to build a bear type classifier. You *could* build it from the ground up but what if somebody has a model that classifies some species of animals? You could use some of the layers used for the previous task, \"Freeze\" them, add your own layers and then train them. Let's try this:"
   ]
  },
  {
   "cell_type": "markdown",
   "metadata": {},
   "source": [
    "## Import Model "
   ]
  },
  {
   "cell_type": "markdown",
   "metadata": {},
   "source": [
    "We'll import our model using tensor flow hub, where you can download dozens of models for transfer learning. "
   ]
  },
  {
   "cell_type": "code",
   "execution_count": 111,
   "metadata": {},
   "outputs": [],
   "source": [
    "m = tf.keras.Sequential([\n",
    "    hub.KerasLayer(\"https://tfhub.dev/google/imagenet/inception_resnet_v2/feature_vector/5\",\n",
    "                   trainable=False),  # Can be True, see below.\n",
    "    tf.keras.layers.Dense(2, activation='softmax')\n",
    "])"
   ]
  },
  {
   "cell_type": "markdown",
   "metadata": {},
   "source": [
    "In this case, we'll use the famous resnet v2 as our pretrained model."
   ]
  },
  {
   "cell_type": "code",
   "execution_count": 107,
   "metadata": {
    "scrolled": false
   },
   "outputs": [
    {
     "name": "stdout",
     "output_type": "stream",
     "text": [
      "Collecting tensorflow_hub\n",
      "  Downloading tensorflow_hub-0.12.0-py2.py3-none-any.whl (108 kB)\n",
      "\u001b[K     |████████████████████████████████| 108 kB 2.3 MB/s eta 0:00:01\n",
      "\u001b[?25hRequirement already satisfied, skipping upgrade: numpy>=1.12.0 in /Users/claudioperezrocha/opt/anaconda3/envs/learn-env/lib/python3.6/site-packages (from tensorflow_hub) (1.19.5)\n",
      "Requirement already satisfied, skipping upgrade: protobuf>=3.8.0 in /Users/claudioperezrocha/opt/anaconda3/envs/learn-env/lib/python3.6/site-packages (from tensorflow_hub) (3.17.1)\n",
      "Requirement already satisfied, skipping upgrade: six>=1.9 in /Users/claudioperezrocha/opt/anaconda3/envs/learn-env/lib/python3.6/site-packages (from protobuf>=3.8.0->tensorflow_hub) (1.15.0)\n",
      "Installing collected packages: tensorflow-hub\n",
      "Successfully installed tensorflow-hub-0.12.0\n"
     ]
    }
   ],
   "source": [
    "import tensorflow_hub as hub"
   ]
  },
  {
   "cell_type": "markdown",
   "metadata": {},
   "source": [
    "## Prepare Data"
   ]
  },
  {
   "cell_type": "markdown",
   "metadata": {},
   "source": [
    "Because the resnet v2 specifies that images have to be (299,299), let's preprocess our images again so that they have the appropriate size. "
   ]
  },
  {
   "cell_type": "code",
   "execution_count": 112,
   "metadata": {
    "scrolled": true
   },
   "outputs": [
    {
     "name": "stdout",
     "output_type": "stream",
     "text": [
      "Found 5216 images belonging to 2 classes.\n",
      "Found 16 images belonging to 2 classes.\n",
      "Found 624 images belonging to 2 classes.\n"
     ]
    }
   ],
   "source": [
    "training_set = train_datagen.flow_from_directory(\"./Data/chest_xray/train/\",\n",
    "                                                 target_size=(299, 299),\n",
    "                                                 batch_size=32, \n",
    "                                                 class_mode='binary')\n",
    "\n",
    "validation_generator = test_datagen.flow_from_directory(\"./Data/chest_xray/val/\",\n",
    "                                                        target_size=(299,299),\n",
    "                                                        batch_size=32,\n",
    "                                                        class_mode='binary')\n",
    "\n",
    "test_set = test_datagen.flow_from_directory('./Data/chest_xray/test/',\n",
    "                                           target_size=(299,299),\n",
    "                                           shuffle = False,\n",
    "                                           class_mode='binary',\n",
    "                                           batch_size=1)"
   ]
  },
  {
   "cell_type": "markdown",
   "metadata": {},
   "source": [
    "## Compile Model"
   ]
  },
  {
   "cell_type": "code",
   "execution_count": 113,
   "metadata": {},
   "outputs": [],
   "source": [
    "m.compile(optimizer='adam', loss=keras.losses.SparseCategoricalCrossentropy(), metrics=['accuracy'])"
   ]
  },
  {
   "cell_type": "code",
   "execution_count": 116,
   "metadata": {},
   "outputs": [],
   "source": [
    "m.build([None, 299, 299, 3])"
   ]
  },
  {
   "cell_type": "markdown",
   "metadata": {},
   "source": [
    "## Review Model"
   ]
  },
  {
   "cell_type": "code",
   "execution_count": 117,
   "metadata": {},
   "outputs": [
    {
     "name": "stdout",
     "output_type": "stream",
     "text": [
      "Model: \"sequential\"\n",
      "_________________________________________________________________\n",
      "Layer (type)                 Output Shape              Param #   \n",
      "=================================================================\n",
      "keras_layer_1 (KerasLayer)   (None, 1536)              54336736  \n",
      "_________________________________________________________________\n",
      "dense (Dense)                (None, 2)                 3074      \n",
      "=================================================================\n",
      "Total params: 54,339,810\n",
      "Trainable params: 3,074\n",
      "Non-trainable params: 54,336,736\n",
      "_________________________________________________________________\n"
     ]
    }
   ],
   "source": [
    "m.summary()"
   ]
  },
  {
   "cell_type": "markdown",
   "metadata": {},
   "source": [
    "A single dense layer was added on top of the `keras_layer_1` pre trained layer. We'll train this layer hoping it can use its knowledge from its previous task to classify images in our own task."
   ]
  },
  {
   "cell_type": "markdown",
   "metadata": {},
   "source": [
    "## Train Model"
   ]
  },
  {
   "cell_type": "code",
   "execution_count": 118,
   "metadata": {},
   "outputs": [
    {
     "name": "stdout",
     "output_type": "stream",
     "text": [
      "Epoch 1/5\n",
      "79/79 [==============================] - 415s 5s/step - loss: 0.3338 - accuracy: 0.8489 - val_loss: 0.4971 - val_accuracy: 0.8125\n",
      "Epoch 2/5\n",
      "79/79 [==============================] - 379s 5s/step - loss: 0.2154 - accuracy: 0.9173 - val_loss: 0.3879 - val_accuracy: 0.9375\n",
      "Epoch 3/5\n",
      "79/79 [==============================] - 381s 5s/step - loss: 0.2017 - accuracy: 0.9225 - val_loss: 0.3549 - val_accuracy: 0.9375\n",
      "Epoch 4/5\n",
      "79/79 [==============================] - 377s 5s/step - loss: 0.1858 - accuracy: 0.9296 - val_loss: 0.4115 - val_accuracy: 0.9375\n",
      "Epoch 5/5\n",
      "79/79 [==============================] - 376s 5s/step - loss: 0.1753 - accuracy: 0.9331 - val_loss: 0.5329 - val_accuracy: 0.8125\n"
     ]
    }
   ],
   "source": [
    "transfer_model = m.fit(training_set, \n",
    "                             steps_per_epoch=79,\n",
    "                             epochs=5,\n",
    "                             validation_data=validation_generator)"
   ]
  },
  {
   "cell_type": "code",
   "execution_count": 127,
   "metadata": {},
   "outputs": [],
   "source": [
    "predict = m.predict(test_set,steps = nb_samples)"
   ]
  },
  {
   "cell_type": "code",
   "execution_count": 128,
   "metadata": {},
   "outputs": [],
   "source": [
    "predictions = np.argmax(predict, axis=1)"
   ]
  },
  {
   "cell_type": "code",
   "execution_count": 131,
   "metadata": {},
   "outputs": [
    {
     "data": {
      "image/png": "[encoded data removed]",
      "text/plain": [
       "<Figure size 360x360 with 1 Axes>"
      ]
     },
     "metadata": {
      "needs_background": "light"
     },
     "output_type": "display_data"
    }
   ],
   "source": [
    "from sklearn.metrics import confusion_matrix, classification_report\n",
    "\n",
    "cm = confusion_matrix(test_set.labels, predictions, labels=[0, 1])\n",
    "clr = classification_report(test_set.labels, predictions, labels=[0, 1], target_names=[\"Normal\", \"Sick\"])\n",
    "\n",
    "plt.figure(figsize=(5, 5))\n",
    "ax = sns.heatmap(cm, annot=True, fmt='g', vmin=0, cmap='Blues', cbar=False)\n",
    "ax.set_ylim(0, 3)\n",
    "plt.xticks(ticks=[0.5, 1.5], labels=[\"Normal\", \"Sick\"])\n",
    "plt.yticks(ticks=[0.5, 1.5], labels=[\"Normal\", \"Sick\"])\n",
    "plt.xlabel(\"Predicted\")\n",
    "plt.ylabel(\"Actual\")\n",
    "plt.title(\"Confusion Matrix\")\n",
    "plt.show()\n",
    "\n",
    "print(\"Classification Report:\\n----------------------\\n\", clr)"
   ]
  },
  {
   "cell_type": "code",
   "execution_count": 132,
   "metadata": {},
   "outputs": [
    {
     "name": "stdout",
     "output_type": "stream",
     "text": [
      "Classification Report:\n",
      "----------------------\n",
      "               precision    recall  f1-score   support\n",
      "\n",
      "      Normal       0.96      0.50      0.65       234\n",
      "        Sick       0.77      0.99      0.86       390\n",
      "\n",
      "    accuracy                           0.80       624\n",
      "   macro avg       0.86      0.74      0.76       624\n",
      "weighted avg       0.84      0.80      0.78       624\n",
      "\n"
     ]
    }
   ],
   "source": [
    "print(\"Classification Report:\\n----------------------\\n\", clr)"
   ]
  },
  {
   "cell_type": "code",
   "execution_count": 133,
   "metadata": {},
   "outputs": [
    {
     "name": "stdout",
     "output_type": "stream",
     "text": [
      "624/624 [==============================] - 118s 188ms/step - loss: 0.4165 - accuracy: 0.8029\n"
     ]
    },
    {
     "data": {
      "text/plain": [
       "[0.4165325164794922, 0.8028846383094788]"
      ]
     },
     "execution_count": 133,
     "metadata": {},
     "output_type": "execute_result"
    }
   ],
   "source": [
    "m.evaluate(test_set)"
   ]
  },
  {
   "cell_type": "markdown",
   "metadata": {},
   "source": [
    "As you can see, there is nothing particularly better about this model than the rest other than a very good recall score for sick patients. This however is not as exciting when you see how many sick patients our model mistakenly classified. If you think about it, our model could just say that all of the pictures are sick and we'd get similar results. This is why its important to acknowledge the specific task we're trying to accomplish and then see if our model does a good job. "
   ]
  },
  {
   "cell_type": "markdown",
   "metadata": {},
   "source": [
    "# Further Steps and Conclusions\n",
    "### Throughout this project, there were a couple of problems that weren't fully adressed and could improve our model significantly:\n",
    "1. Use augmented data: Using augmented data artificially creates bigger datasets that our model could benefit from. A small data sample could be the cause of some of our model's negative parts.\n",
    "\n",
    "2. Address the class imbalance: even though the challenge is to use the data we're given, it would be interesting to see how using a balanced training set changes the model performance. \n",
    "\n",
    "3. Add more dense layers to our pretrained model: We could improve our pretrained model by adding a couple of dense layers at the end. \n",
    "\n",
    "4. Regularization: A very important issue in ML is overfitting. Dropout layers are commonly used in deep learning to address this issue. This could have improved our model performance significantly.\n",
    "\n",
    "5. Better validation set: Our validation set was very poorly distributed and didn't allow us to use the tuner as we wanted. We couldn’t even conclude if our model was overfitting because we couldn't use any **true** set \n",
    "\n",
    "6. Deep learning is a true iterative process: If we really wanted to improve our model, we need to dive into the data and get our boots dirty by trial and error. Intuition plays a big role in feature engineering. "
   ]
  }
 ],
 "metadata": {
  "kernelspec": {
   "display_name": "learn-env",
   "language": "python",
   "name": "learn-env"
  },
  "language_info": {
   "codemirror_mode": {
    "name": "ipython",
    "version": 3
   },
   "file_extension": ".py",
   "mimetype": "text/x-python",
   "name": "python",
   "nbconvert_exporter": "python",
   "pygments_lexer": "ipython3",
   "version": "3.6.9"
  }
 },
 "nbformat": 4,
 "nbformat_minor": 4
}
